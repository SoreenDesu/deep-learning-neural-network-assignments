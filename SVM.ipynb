{
  "cells": [
    {
      "cell_type": "markdown",
      "source": [
        "# <center>Deep Learning - Neural Networks - Second Assignment</center> "
      ],
      "metadata": {
        "id": "0J7nY-3lPpB0"
      }
    },
    {
      "cell_type": "markdown",
      "source": [
        "On this assignment, our goal is to experiment with the usual Machine Learning algorithms as well as with Support Vector Machines, with the task of splitting the MNIST Database digits into even and odd ones."
      ],
      "metadata": {
        "id": "5WW0G3rIP0yi"
      }
    },
    {
      "cell_type": "markdown",
      "metadata": {
        "id": "EpE_MSzb1BcE"
      },
      "source": [
        "### <center>Importing Needed Libraries</center>"
      ]
    },
    {
      "cell_type": "code",
      "execution_count": 1,
      "metadata": {
        "id": "3VONnOTrcoFL"
      },
      "outputs": [],
      "source": [
        "from sklearn import neighbors, metrics\n",
        "from sklearn.svm import SVC\n",
        "from sklearn.decomposition import PCA\n",
        "import numpy as np\n",
        "import time\n",
        "from tensorflow.keras.datasets import mnist"
      ]
    },
    {
      "cell_type": "markdown",
      "metadata": {
        "id": "mavo6r1t1Hc6"
      },
      "source": [
        "### <center>Importing and Reshaping the MNIST database</center>\n",
        "\n"
      ]
    },
    {
      "cell_type": "code",
      "execution_count": 2,
      "metadata": {
        "id": "E-zJA19kksGt",
        "colab": {
          "base_uri": "https://localhost:8080/"
        },
        "outputId": "3f6b2472-8bee-46c9-ec0c-4f3c4cb81b50"
      },
      "outputs": [
        {
          "output_type": "stream",
          "name": "stdout",
          "text": [
            "Downloading data from https://storage.googleapis.com/tensorflow/tf-keras-datasets/mnist.npz\n",
            "11493376/11490434 [==============================] - 0s 0us/step\n",
            "11501568/11490434 [==============================] - 0s 0us/step\n"
          ]
        }
      ],
      "source": [
        "(x_training, y_training), (x_testing, y_testing) = mnist.load_data()\n",
        "\n",
        "#Reshaping for algorithms\n",
        "x_training_reshaped = np.reshape(x_training, (60000, 28*28))\n",
        "x_testing_reshaped= np.reshape(x_testing, (10000, 28*28))\n",
        "\n",
        "#Applying PCA\n",
        "pca = PCA(0.9, random_state = 69)\n",
        "pca.fit(x_training_reshaped)\n",
        "\n",
        "x_training_pca = pca.transform(x_training_reshaped)\n",
        "x_testing_pca = pca.transform(x_testing_reshaped)\n",
        "\n",
        "y_training_duality = y_training.copy()\n",
        "y_testing_duality = y_testing.copy()\n",
        "\n",
        "#Based on the result of 'label_value' % 2, we determine if a number is odd or even and change the value accordingly to 0 and 1\n",
        "#for both trainign and testing sets\n",
        "y_training_duality[y_training_duality % 2 == 0] = 0 \n",
        "y_training_duality[y_training_duality % 2 == 1] = 1\n",
        "\n",
        "y_testing_duality[y_testing_duality % 2 == 0] = 0\n",
        "y_testing_duality[y_testing_duality % 2 == 1] = 1"
      ]
    },
    {
      "cell_type": "markdown",
      "source": [
        "### <center>Machine Learning Algorithms Section - PCA vs non-PCA</center>"
      ],
      "metadata": {
        "id": "oh5NzI3zQNTp"
      }
    },
    {
      "cell_type": "code",
      "execution_count": null,
      "metadata": {
        "colab": {
          "base_uri": "https://localhost:8080/"
        },
        "id": "Lu_NtjuSTOeG",
        "outputId": "05f553f5-aacf-422c-f0fe-2d374b8909cf"
      },
      "outputs": [
        {
          "output_type": "stream",
          "name": "stdout",
          "text": [
            "Nearest Neighbor with no PCA training finished. Duration: 0.012844562530517578 seconds\n",
            "Nearest Neighbor with no PCA testing finished. Duration: 35.118773221969604 seconds\n",
            "Nearest Neighbor with no PCA accuracy: 0.9838\n"
          ]
        }
      ],
      "source": [
        "start = time.time()\n",
        "nn = neighbors.KNeighborsClassifier(n_neighbors = 1, algorithm = 'auto').fit(x_training_reshaped, y_training_duality)\n",
        "end = time.time()\n",
        "print(\"Nearest Neighbor with no PCA training finished. Duration:\", end - start, \"seconds\")\n",
        "\n",
        "start = time.time()\n",
        "nn_predicted_ys = nn.predict(x_testing_reshaped)\n",
        "end = time.time()\n",
        "print(\"Nearest Neighbor with no PCA testing finished. Duration:\", end - start, \"seconds\")\n",
        "\n",
        "print(\"Nearest Neighbor with no PCA accuracy:\", nn.score(x_testing_reshaped, y_testing_duality))"
      ]
    },
    {
      "cell_type": "code",
      "execution_count": null,
      "metadata": {
        "colab": {
          "base_uri": "https://localhost:8080/"
        },
        "id": "Z_lEeuUsd00_",
        "outputId": "f7c59c37-3287-44a0-dfd9-db92125c4226"
      },
      "outputs": [
        {
          "output_type": "stream",
          "name": "stdout",
          "text": [
            "Nearest Neighbor with PCA training finished. Duration: 0.014994144439697266 seconds\n",
            "Nearest Neighbor with PCA testing finished. Duration: 8.275781869888306 seconds\n",
            "Nearest Neighbor with PCA accuracy: 0.9855\n"
          ]
        }
      ],
      "source": [
        "start = time.time()\n",
        "nn = neighbors.KNeighborsClassifier(n_neighbors = 1, algorithm = 'auto').fit(x_training_pca, y_training_duality)\n",
        "end = time.time()\n",
        "print(\"Nearest Neighbor with PCA training finished. Duration:\", end - start, \"seconds\")\n",
        "\n",
        "start = time.time()\n",
        "nn_predicted_ys = nn.predict(x_testing_pca)\n",
        "end = time.time()\n",
        "print(\"Nearest Neighbor with PCA testing finished. Duration:\", end - start, \"seconds\")\n",
        "\n",
        "print(\"Nearest Neighbor with PCA accuracy:\", nn.score(x_testing_pca, y_testing_duality))"
      ]
    },
    {
      "cell_type": "code",
      "execution_count": null,
      "metadata": {
        "colab": {
          "base_uri": "https://localhost:8080/"
        },
        "id": "iunGj2b7VG-a",
        "outputId": "18ae7949-969b-4b6e-ab4a-a572e8747cc4"
      },
      "outputs": [
        {
          "output_type": "stream",
          "name": "stdout",
          "text": [
            "Three Nearest Neighbors with no PCA training finished. Duration: 0.008936166763305664 seconds\n",
            "Three Nearest Neighbors with no PCA testing finished. Duration: 37.23824906349182 seconds\n",
            "Three Nearest Neighbors with no PCA accuracy: 0.9852\n"
          ]
        }
      ],
      "source": [
        "start = time.time()\n",
        "three_nn = neighbors.KNeighborsClassifier(n_neighbors = 3, algorithm = 'auto').fit(x_training_reshaped, y_training_duality)\n",
        "end = time.time()\n",
        "print(\"Three Nearest Neighbors with no PCA training finished. Duration:\", end - start, \"seconds\")\n",
        "\n",
        "start = time.time()\n",
        "three_nn_predicted_ys = three_nn.predict(x_testing_reshaped)\n",
        "end = time.time()\n",
        "print(\"Three Nearest Neighbors with no PCA testing finished. Duration:\", end - start, \"seconds\")\n",
        "\n",
        "print(\"Three Nearest Neighbors with no PCA accuracy:\", three_nn.score(x_testing_reshaped, y_testing_duality))"
      ]
    },
    {
      "cell_type": "code",
      "execution_count": null,
      "metadata": {
        "colab": {
          "base_uri": "https://localhost:8080/"
        },
        "id": "gmWY7E60fEGe",
        "outputId": "5895fcff-bebe-4f22-f842-7595bb381708"
      },
      "outputs": [
        {
          "output_type": "stream",
          "name": "stdout",
          "text": [
            "Three Nearest Neighbors with PCA training finished. Duration: 0.013838052749633789 seconds\n",
            "Three Nearest Neighbors with PCA testing finished. Duration: 10.763492345809937 seconds\n",
            "Three Nearest Neighbors with PCA accuracy: 0.9867\n"
          ]
        }
      ],
      "source": [
        "start = time.time()\n",
        "three_nn = neighbors.KNeighborsClassifier(n_neighbors = 3, algorithm = 'auto').fit(x_training_pca, y_training_duality)\n",
        "end = time.time()\n",
        "print(\"Three Nearest Neighbors with PCA training finished. Duration:\", end - start, \"seconds\")\n",
        "\n",
        "start = time.time()\n",
        "three_nn_predicted_ys = three_nn.predict(x_testing_pca)\n",
        "end = time.time()\n",
        "print(\"Three Nearest Neighbors with PCA testing finished. Duration:\", end - start, \"seconds\")\n",
        "\n",
        "print(\"Three Nearest Neighbors with PCA accuracy:\", three_nn.score(x_testing_pca, y_testing_duality))"
      ]
    },
    {
      "cell_type": "code",
      "execution_count": null,
      "metadata": {
        "colab": {
          "base_uri": "https://localhost:8080/"
        },
        "id": "hTg-Ax2PV_AG",
        "outputId": "1871cbc4-c8db-4f11-e73a-46b5e944faf4"
      },
      "outputs": [
        {
          "output_type": "stream",
          "name": "stdout",
          "text": [
            "Nearest Centroid with no PCA training finished. Duration: 0.06879115104675293 seconds\n",
            "Nearest Centroid with no PCA testing finished. Duration: 0.040082454681396484 seconds\n",
            "Nearest Centroid with no PCA accuracy: 0.8026\n"
          ]
        }
      ],
      "source": [
        "start = time.time()\n",
        "nc = neighbors.NearestCentroid().fit(x_training_reshaped, y_training_duality)\n",
        "end = time.time()\n",
        "print(\"Nearest Centroid with no PCA training finished. Duration:\", end - start, \"seconds\")\n",
        "\n",
        "start = time.time()\n",
        "nc_predicted_ys = nc.predict(x_testing_reshaped)\n",
        "end = time.time()\n",
        "print(\"Nearest Centroid with no PCA testing finished. Duration:\", end - start, \"seconds\")\n",
        "\n",
        "print(\"Nearest Centroid with no PCA accuracy:\", nc.score(x_testing_reshaped, y_testing_duality))"
      ]
    },
    {
      "cell_type": "code",
      "execution_count": null,
      "metadata": {
        "colab": {
          "base_uri": "https://localhost:8080/"
        },
        "id": "IYretVl3fZJr",
        "outputId": "1cadbff9-140f-467d-e571-83dd068d0f6f"
      },
      "outputs": [
        {
          "output_type": "stream",
          "name": "stdout",
          "text": [
            "Nearest Centroid with PCA training finished. Duration: 0.043089866638183594 seconds\n",
            "Nearest Centroid with PCA testing finished. Duration: 0.007557868957519531 seconds\n",
            "Nearest Centroid with PCA accuracy: 0.8018\n"
          ]
        }
      ],
      "source": [
        "start = time.time()\n",
        "nc = neighbors.NearestCentroid().fit(x_training_pca, y_training_duality)\n",
        "end = time.time()\n",
        "print(\"Nearest Centroid with PCA training finished. Duration:\", end - start, \"seconds\")\n",
        "\n",
        "start = time.time()\n",
        "nc_predicted_ys = nc.predict(x_testing_pca)\n",
        "end = time.time()\n",
        "print(\"Nearest Centroid with PCA testing finished. Duration:\", end - start, \"seconds\")\n",
        "\n",
        "print(\"Nearest Centroid with PCA accuracy:\", nc.score(x_testing_pca, y_testing_duality))"
      ]
    },
    {
      "cell_type": "markdown",
      "source": [
        "### <center>Experimenting with Support Vector Machines</center>"
      ],
      "metadata": {
        "id": "l-prBrjoQZge"
      }
    },
    {
      "cell_type": "markdown",
      "source": [
        "#### <center>Changing the Kernel</center>"
      ],
      "metadata": {
        "id": "Zc5AJ0sbQfXS"
      }
    },
    {
      "cell_type": "code",
      "source": [
        "svc = SVC(kernel='poly', C=1, random_state=69)\n",
        "svc.fit(x_training_pca, y_training_duality)\n",
        "svc.score(x_testing_pca,y_testing_duality)"
      ],
      "metadata": {
        "colab": {
          "base_uri": "https://localhost:8080/"
        },
        "id": "9rvy4e0Reze2",
        "outputId": "71b119e9-eb7c-448d-a8ef-ea278c6a8c51"
      },
      "execution_count": null,
      "outputs": [
        {
          "output_type": "stream",
          "name": "stdout",
          "text": [
            "[LibSVM]"
          ]
        },
        {
          "output_type": "execute_result",
          "data": {
            "text/plain": [
              "0.989"
            ]
          },
          "metadata": {},
          "execution_count": 3
        }
      ]
    },
    {
      "cell_type": "code",
      "execution_count": null,
      "metadata": {
        "colab": {
          "base_uri": "https://localhost:8080/"
        },
        "id": "TTsLqHD0GFHy",
        "outputId": "0cb81556-b513-41f6-f659-8b9db09912fd"
      },
      "outputs": [
        {
          "output_type": "stream",
          "name": "stdout",
          "text": [
            "[LibSVM]"
          ]
        },
        {
          "output_type": "execute_result",
          "data": {
            "text/plain": [
              "0.9898"
            ]
          },
          "metadata": {},
          "execution_count": 4
        }
      ],
      "source": [
        "svc = SVC(kernel='rbf', C=1, verbose=True, random_state=69)\n",
        "svc.fit(x_training_pca, y_training_duality)\n",
        "svc.score(x_testing_pca,y_testing_duality)"
      ]
    },
    {
      "cell_type": "code",
      "execution_count": null,
      "metadata": {
        "id": "8XkzfU8_KnEA",
        "colab": {
          "base_uri": "https://localhost:8080/"
        },
        "outputId": "62ef38a0-4100-465a-f3a0-3e86d84270fe"
      },
      "outputs": [
        {
          "output_type": "stream",
          "name": "stdout",
          "text": [
            "[LibSVM]"
          ]
        },
        {
          "output_type": "execute_result",
          "data": {
            "text/plain": [
              "0.7225"
            ]
          },
          "metadata": {},
          "execution_count": 5
        }
      ],
      "source": [
        "svc = SVC(kernel='sigmoid', C=1, verbose=True, random_state=69)\n",
        "svc.fit(x_training_pca, y_training_duality)\n",
        "svc.score(x_testing_pca,y_testing_duality)"
      ]
    },
    {
      "cell_type": "markdown",
      "source": [
        "#### <center>Using different values for the regularization parameter C</center>"
      ],
      "metadata": {
        "id": "pkURj4GXQmNJ"
      }
    },
    {
      "cell_type": "code",
      "source": [
        "svc = SVC(kernel='poly', C=5, verbose=True, random_state=69)\n",
        "svc.fit(x_training_pca, y_training_duality)\n",
        "svc.score(x_testing_pca,y_testing_duality)"
      ],
      "metadata": {
        "colab": {
          "base_uri": "https://localhost:8080/"
        },
        "id": "KGxtVoJ1LVa4",
        "outputId": "0ad4d825-f5a4-4874-b0ce-668aceadd782"
      },
      "execution_count": null,
      "outputs": [
        {
          "output_type": "stream",
          "name": "stdout",
          "text": [
            "[LibSVM]"
          ]
        },
        {
          "output_type": "execute_result",
          "data": {
            "text/plain": [
              "0.9888"
            ]
          },
          "metadata": {},
          "execution_count": 8
        }
      ]
    },
    {
      "cell_type": "code",
      "source": [
        "svc = SVC(kernel='poly', C=10, verbose=True, random_state=69)\n",
        "svc.fit(x_training_pca, y_training_duality)\n",
        "svc.score(x_testing_pca,y_testing_duality)"
      ],
      "metadata": {
        "colab": {
          "base_uri": "https://localhost:8080/"
        },
        "id": "2-mqa-u7LVQS",
        "outputId": "5f451074-57f9-4245-9035-66ffa68401a2"
      },
      "execution_count": null,
      "outputs": [
        {
          "output_type": "stream",
          "name": "stdout",
          "text": [
            "[LibSVM]"
          ]
        },
        {
          "output_type": "execute_result",
          "data": {
            "text/plain": [
              "0.9885"
            ]
          },
          "metadata": {},
          "execution_count": 9
        }
      ]
    },
    {
      "cell_type": "code",
      "source": [
        "svc = SVC(kernel='rbf', C=5, verbose=True, random_state=69)\n",
        "svc.fit(x_training_pca, y_training_duality)\n",
        "svc.score(x_testing_pca,y_testing_duality)"
      ],
      "metadata": {
        "colab": {
          "base_uri": "https://localhost:8080/"
        },
        "id": "S-tARJwcJdrQ",
        "outputId": "ec56d4cf-46d5-4640-ee4a-72c4f06cd299"
      },
      "execution_count": null,
      "outputs": [
        {
          "output_type": "stream",
          "name": "stdout",
          "text": [
            "[LibSVM]"
          ]
        },
        {
          "output_type": "execute_result",
          "data": {
            "text/plain": [
              "0.992"
            ]
          },
          "metadata": {},
          "execution_count": 6
        }
      ]
    },
    {
      "cell_type": "code",
      "source": [
        "svc = SVC(kernel='rbf', C=10, verbose=True, random_state=69)\n",
        "svc.fit(x_training_pca, y_training_duality)\n",
        "svc.score(x_testing_pca,y_testing_duality)"
      ],
      "metadata": {
        "colab": {
          "base_uri": "https://localhost:8080/"
        },
        "id": "JkpG0dtqJeSp",
        "outputId": "7b5a90cd-c766-45a8-b9a8-3d0e1200ad0a"
      },
      "execution_count": null,
      "outputs": [
        {
          "output_type": "stream",
          "name": "stdout",
          "text": [
            "[LibSVM]"
          ]
        },
        {
          "output_type": "execute_result",
          "data": {
            "text/plain": [
              "0.992"
            ]
          },
          "metadata": {},
          "execution_count": 7
        }
      ]
    }
  ],
  "metadata": {
    "colab": {
      "name": "SVM.ipynb",
      "provenance": []
    },
    "kernelspec": {
      "display_name": "Python 3",
      "name": "python3"
    },
    "language_info": {
      "name": "python"
    }
  },
  "nbformat": 4,
  "nbformat_minor": 0
}